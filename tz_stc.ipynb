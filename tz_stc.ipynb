{
  "nbformat": 4,
  "nbformat_minor": 0,
  "metadata": {
    "colab": {
      "name": "tz_stc.ipynb",
      "provenance": [],
      "collapsed_sections": [],
      "mount_file_id": "1yrUtexioIKny9gCgz7XLiKd13cWZqvuM",
      "authorship_tag": "ABX9TyNeBDxQks+UEYsRP8+F44jQ"
    },
    "kernelspec": {
      "name": "python3",
      "display_name": "Python 3"
    },
    "language_info": {
      "name": "python"
    },
    "widgets": {
      "application/vnd.jupyter.widget-state+json": {
        "f758e9ba116e487d9e254bf63c724ae9": {
          "model_module": "@jupyter-widgets/controls",
          "model_name": "HBoxModel",
          "model_module_version": "1.5.0",
          "state": {
            "_view_name": "HBoxView",
            "_dom_classes": [],
            "_model_name": "HBoxModel",
            "_view_module": "@jupyter-widgets/controls",
            "_model_module_version": "1.5.0",
            "_view_count": null,
            "_view_module_version": "1.5.0",
            "box_style": "",
            "layout": "IPY_MODEL_7c4a154c0c7c462abe748f6079f97ff4",
            "_model_module": "@jupyter-widgets/controls",
            "children": [
              "IPY_MODEL_c4662dc4a4b24d19b495cf99ee07f314",
              "IPY_MODEL_7d34563401ad413cb754dfbf0f8cba70",
              "IPY_MODEL_c8fdc21a7f4b4ddda565083f1231d33f"
            ]
          }
        },
        "7c4a154c0c7c462abe748f6079f97ff4": {
          "model_module": "@jupyter-widgets/base",
          "model_name": "LayoutModel",
          "model_module_version": "1.2.0",
          "state": {
            "_view_name": "LayoutView",
            "grid_template_rows": null,
            "right": null,
            "justify_content": null,
            "_view_module": "@jupyter-widgets/base",
            "overflow": null,
            "_model_module_version": "1.2.0",
            "_view_count": null,
            "flex_flow": null,
            "width": null,
            "min_width": null,
            "border": null,
            "align_items": null,
            "bottom": null,
            "_model_module": "@jupyter-widgets/base",
            "top": null,
            "grid_column": null,
            "overflow_y": null,
            "overflow_x": null,
            "grid_auto_flow": null,
            "grid_area": null,
            "grid_template_columns": null,
            "flex": null,
            "_model_name": "LayoutModel",
            "justify_items": null,
            "grid_row": null,
            "max_height": null,
            "align_content": null,
            "visibility": null,
            "align_self": null,
            "height": null,
            "min_height": null,
            "padding": null,
            "grid_auto_rows": null,
            "grid_gap": null,
            "max_width": null,
            "order": null,
            "_view_module_version": "1.2.0",
            "grid_template_areas": null,
            "object_position": null,
            "object_fit": null,
            "grid_auto_columns": null,
            "margin": null,
            "display": null,
            "left": null
          }
        },
        "c4662dc4a4b24d19b495cf99ee07f314": {
          "model_module": "@jupyter-widgets/controls",
          "model_name": "HTMLModel",
          "model_module_version": "1.5.0",
          "state": {
            "_view_name": "HTMLView",
            "style": "IPY_MODEL_6735c6048a6e4e0bb58c60d22bb65f14",
            "_dom_classes": [],
            "description": "",
            "_model_name": "HTMLModel",
            "placeholder": "​",
            "_view_module": "@jupyter-widgets/controls",
            "_model_module_version": "1.5.0",
            "value": "",
            "_view_count": null,
            "_view_module_version": "1.5.0",
            "description_tooltip": null,
            "_model_module": "@jupyter-widgets/controls",
            "layout": "IPY_MODEL_0bdf6e1d0bf94b0b8dfa4bf8c36a5965"
          }
        },
        "7d34563401ad413cb754dfbf0f8cba70": {
          "model_module": "@jupyter-widgets/controls",
          "model_name": "FloatProgressModel",
          "model_module_version": "1.5.0",
          "state": {
            "_view_name": "ProgressView",
            "style": "IPY_MODEL_65460ce7160846df8c5c87dd5b0813d4",
            "_dom_classes": [],
            "description": "",
            "_model_name": "FloatProgressModel",
            "bar_style": "success",
            "max": 1,
            "_view_module": "@jupyter-widgets/controls",
            "_model_module_version": "1.5.0",
            "value": 1,
            "_view_count": null,
            "_view_module_version": "1.5.0",
            "orientation": "horizontal",
            "min": 0,
            "description_tooltip": null,
            "_model_module": "@jupyter-widgets/controls",
            "layout": "IPY_MODEL_ecbb16eb18cc4eb9a95c76e0e49ccf04"
          }
        },
        "c8fdc21a7f4b4ddda565083f1231d33f": {
          "model_module": "@jupyter-widgets/controls",
          "model_name": "HTMLModel",
          "model_module_version": "1.5.0",
          "state": {
            "_view_name": "HTMLView",
            "style": "IPY_MODEL_c116dd4abf6a48958363cfd56dc80fbb",
            "_dom_classes": [],
            "description": "",
            "_model_name": "HTMLModel",
            "placeholder": "​",
            "_view_module": "@jupyter-widgets/controls",
            "_model_module_version": "1.5.0",
            "value": " 204/? [00:01&lt;00:00, 215.19it/s]",
            "_view_count": null,
            "_view_module_version": "1.5.0",
            "description_tooltip": null,
            "_model_module": "@jupyter-widgets/controls",
            "layout": "IPY_MODEL_e8feaebd7cb1440491d1ecc664eb4b3c"
          }
        },
        "6735c6048a6e4e0bb58c60d22bb65f14": {
          "model_module": "@jupyter-widgets/controls",
          "model_name": "DescriptionStyleModel",
          "model_module_version": "1.5.0",
          "state": {
            "_view_name": "StyleView",
            "_model_name": "DescriptionStyleModel",
            "description_width": "",
            "_view_module": "@jupyter-widgets/base",
            "_model_module_version": "1.5.0",
            "_view_count": null,
            "_view_module_version": "1.2.0",
            "_model_module": "@jupyter-widgets/controls"
          }
        },
        "0bdf6e1d0bf94b0b8dfa4bf8c36a5965": {
          "model_module": "@jupyter-widgets/base",
          "model_name": "LayoutModel",
          "model_module_version": "1.2.0",
          "state": {
            "_view_name": "LayoutView",
            "grid_template_rows": null,
            "right": null,
            "justify_content": null,
            "_view_module": "@jupyter-widgets/base",
            "overflow": null,
            "_model_module_version": "1.2.0",
            "_view_count": null,
            "flex_flow": null,
            "width": null,
            "min_width": null,
            "border": null,
            "align_items": null,
            "bottom": null,
            "_model_module": "@jupyter-widgets/base",
            "top": null,
            "grid_column": null,
            "overflow_y": null,
            "overflow_x": null,
            "grid_auto_flow": null,
            "grid_area": null,
            "grid_template_columns": null,
            "flex": null,
            "_model_name": "LayoutModel",
            "justify_items": null,
            "grid_row": null,
            "max_height": null,
            "align_content": null,
            "visibility": null,
            "align_self": null,
            "height": null,
            "min_height": null,
            "padding": null,
            "grid_auto_rows": null,
            "grid_gap": null,
            "max_width": null,
            "order": null,
            "_view_module_version": "1.2.0",
            "grid_template_areas": null,
            "object_position": null,
            "object_fit": null,
            "grid_auto_columns": null,
            "margin": null,
            "display": null,
            "left": null
          }
        },
        "65460ce7160846df8c5c87dd5b0813d4": {
          "model_module": "@jupyter-widgets/controls",
          "model_name": "ProgressStyleModel",
          "model_module_version": "1.5.0",
          "state": {
            "_view_name": "StyleView",
            "_model_name": "ProgressStyleModel",
            "description_width": "",
            "_view_module": "@jupyter-widgets/base",
            "_model_module_version": "1.5.0",
            "_view_count": null,
            "_view_module_version": "1.2.0",
            "bar_color": null,
            "_model_module": "@jupyter-widgets/controls"
          }
        },
        "ecbb16eb18cc4eb9a95c76e0e49ccf04": {
          "model_module": "@jupyter-widgets/base",
          "model_name": "LayoutModel",
          "model_module_version": "1.2.0",
          "state": {
            "_view_name": "LayoutView",
            "grid_template_rows": null,
            "right": null,
            "justify_content": null,
            "_view_module": "@jupyter-widgets/base",
            "overflow": null,
            "_model_module_version": "1.2.0",
            "_view_count": null,
            "flex_flow": null,
            "width": "20px",
            "min_width": null,
            "border": null,
            "align_items": null,
            "bottom": null,
            "_model_module": "@jupyter-widgets/base",
            "top": null,
            "grid_column": null,
            "overflow_y": null,
            "overflow_x": null,
            "grid_auto_flow": null,
            "grid_area": null,
            "grid_template_columns": null,
            "flex": null,
            "_model_name": "LayoutModel",
            "justify_items": null,
            "grid_row": null,
            "max_height": null,
            "align_content": null,
            "visibility": null,
            "align_self": null,
            "height": null,
            "min_height": null,
            "padding": null,
            "grid_auto_rows": null,
            "grid_gap": null,
            "max_width": null,
            "order": null,
            "_view_module_version": "1.2.0",
            "grid_template_areas": null,
            "object_position": null,
            "object_fit": null,
            "grid_auto_columns": null,
            "margin": null,
            "display": null,
            "left": null
          }
        },
        "c116dd4abf6a48958363cfd56dc80fbb": {
          "model_module": "@jupyter-widgets/controls",
          "model_name": "DescriptionStyleModel",
          "model_module_version": "1.5.0",
          "state": {
            "_view_name": "StyleView",
            "_model_name": "DescriptionStyleModel",
            "description_width": "",
            "_view_module": "@jupyter-widgets/base",
            "_model_module_version": "1.5.0",
            "_view_count": null,
            "_view_module_version": "1.2.0",
            "_model_module": "@jupyter-widgets/controls"
          }
        },
        "e8feaebd7cb1440491d1ecc664eb4b3c": {
          "model_module": "@jupyter-widgets/base",
          "model_name": "LayoutModel",
          "model_module_version": "1.2.0",
          "state": {
            "_view_name": "LayoutView",
            "grid_template_rows": null,
            "right": null,
            "justify_content": null,
            "_view_module": "@jupyter-widgets/base",
            "overflow": null,
            "_model_module_version": "1.2.0",
            "_view_count": null,
            "flex_flow": null,
            "width": null,
            "min_width": null,
            "border": null,
            "align_items": null,
            "bottom": null,
            "_model_module": "@jupyter-widgets/base",
            "top": null,
            "grid_column": null,
            "overflow_y": null,
            "overflow_x": null,
            "grid_auto_flow": null,
            "grid_area": null,
            "grid_template_columns": null,
            "flex": null,
            "_model_name": "LayoutModel",
            "justify_items": null,
            "grid_row": null,
            "max_height": null,
            "align_content": null,
            "visibility": null,
            "align_self": null,
            "height": null,
            "min_height": null,
            "padding": null,
            "grid_auto_rows": null,
            "grid_gap": null,
            "max_width": null,
            "order": null,
            "_view_module_version": "1.2.0",
            "grid_template_areas": null,
            "object_position": null,
            "object_fit": null,
            "grid_auto_columns": null,
            "margin": null,
            "display": null,
            "left": null
          }
        }
      }
    }
  },
  "cells": [
    {
      "cell_type": "code",
      "metadata": {
        "id": "XnUro4NzOlry"
      },
      "source": [
        "import gc\n",
        "import pandas as pd\n",
        "import numpy as np\n",
        "import collections\n",
        "import xgboost as xgb\n",
        "from pathlib import Path\n",
        "import soundfile as sf\n",
        "from tqdm.auto import tqdm\n",
        "from sklearn.metrics import roc_auc_score\n",
        "from sklearn.model_selection import train_test_split, StratifiedKFold\n",
        "from sklearn.linear_model import LogisticRegression\n",
        "\n",
        "from IPython.display import Audio\n",
        "\n",
        "# path = Path('/content/drive/MyDrive/TZ/stc/input/wav_data')\n",
        "path = Path('/content/drive/MyDrive/TZ/stc/input/')\n",
        "SEED = 13"
      ],
      "execution_count": 1,
      "outputs": []
    },
    {
      "cell_type": "code",
      "metadata": {
        "id": "NOC_rMN2TU_2"
      },
      "source": [
        "def find_length() -> int:\n",
        "    \"\"\"\n",
        "    we need make all waves equal length and we need find mean\n",
        "    return: mean(all length waves) * 8000   \n",
        "    \"\"\"\n",
        "    tmp = []\n",
        "    for p in (path / 'wav_data').glob('*.wav'):\n",
        "        d, sr = sf.read(p)\n",
        "        tmp.append(d.shape[0]/sr)\n",
        "\n",
        "    print(f'Length waves max : {np.max(tmp)}, min: {np.min(tmp)}, mean: {np.mean(tmp)}')    \n",
        "    return int(sr * np.mean(tmp))\n",
        "\n",
        "\n",
        "def make_data(path: Path, length: int) -> list:\n",
        "    \"\"\"\n",
        "    path: Path, path to wave file\n",
        "    length: int, set length to make eq. len waves\n",
        "            if > we cut, < expand zeros\n",
        "    after each waves make FFT, reshape and get mean features\n",
        "    return: list    \n",
        "    \"\"\"\n",
        "    d, _ = sf.read(p)   \n",
        "    if d.shape[0] < length:\n",
        "        d = np.append(d, [0]*(length-d.shape[0]), axis = 0)\n",
        "    else:\n",
        "        d = d[:length]\n",
        "    d_f = np.fft.fft(d)[:len(d)//2]\n",
        "    return d_f.reshape(352, 54).mean(axis = 1)\n",
        "\n",
        "\n",
        "def make_target(name: str, value: int) ->pd.DataFrame:\n",
        "    \"\"\"\n",
        "    name: str, f.txt\n",
        "    value: int, taget value [0, 1]\n",
        "    \"\"\"\n",
        "    data = pd.read_csv(path / name, header = None)\n",
        "    data['target'] = value\n",
        "    data.columns = ['id', 'target']\n",
        "    data['id'] = data['id'].str.split('.').str[0]\n",
        "    return data\n",
        "\n",
        "\n",
        "def rand_path_test(\n",
        "    count: int,\n",
        "    man: pd.DataFrame,\n",
        "    woman: pd.DataFrame\n",
        "):\n",
        "    dct = {}\n",
        "    for _ in range(count):\n",
        "        id_man = np.random.choice(man.id.values)\n",
        "        id_woman = np.random.choice(woman.id.values)\n",
        "        dct[id_man] = man[man.id == id_man].target.values[0]\n",
        "        dct[id_woman] = woman[woman.id == id_woman].target.values[0]\n",
        "    return dct"
      ],
      "execution_count": 2,
      "outputs": []
    },
    {
      "cell_type": "code",
      "metadata": {
        "colab": {
          "base_uri": "https://localhost:8080/",
          "height": 66,
          "referenced_widgets": [
            "f758e9ba116e487d9e254bf63c724ae9",
            "7c4a154c0c7c462abe748f6079f97ff4",
            "c4662dc4a4b24d19b495cf99ee07f314",
            "7d34563401ad413cb754dfbf0f8cba70",
            "c8fdc21a7f4b4ddda565083f1231d33f",
            "6735c6048a6e4e0bb58c60d22bb65f14",
            "0bdf6e1d0bf94b0b8dfa4bf8c36a5965",
            "65460ce7160846df8c5c87dd5b0813d4",
            "ecbb16eb18cc4eb9a95c76e0e49ccf04",
            "c116dd4abf6a48958363cfd56dc80fbb",
            "e8feaebd7cb1440491d1ecc664eb4b3c"
          ]
        },
        "id": "pUciCxbgF9qW",
        "outputId": "c6e157f7-9300-425b-946a-e095a3929af7"
      },
      "source": [
        "#make target\n",
        "f = make_target('f.txt', 0)\n",
        "m = make_target('m.txt', 1)\n",
        "\n",
        "test_dct = rand_path_test(\n",
        "    count = 4,\n",
        "    man=f,\n",
        "    woman=m\n",
        ")\n",
        "length = find_length()\n",
        "dct = collections.defaultdict(list)\n",
        "for p in tqdm((path / 'wav_data').glob('*.wav')):\n",
        "    if not p.stem in test_dct.keys():\n",
        "        dct[p.stem].append(make_data(p, length))\n",
        "        dct[p.stem] = np.ravel(dct[p.stem])"
      ],
      "execution_count": 3,
      "outputs": [
        {
          "output_type": "stream",
          "name": "stdout",
          "text": [
            "Length waves max : 10.6565, min: 2.4035, mean: 4.752068014705882\n"
          ]
        },
        {
          "output_type": "display_data",
          "data": {
            "application/vnd.jupyter.widget-view+json": {
              "model_id": "f758e9ba116e487d9e254bf63c724ae9",
              "version_minor": 0,
              "version_major": 2
            },
            "text/plain": [
              "0it [00:00, ?it/s]"
            ]
          },
          "metadata": {}
        }
      ]
    },
    {
      "cell_type": "code",
      "metadata": {
        "colab": {
          "base_uri": "https://localhost:8080/"
        },
        "id": "MSEoAD3eRBeA",
        "outputId": "fc04e8c3-02ef-44e6-c230-9edc910c53b4"
      },
      "source": [
        "f[f.id == 'A30002S9'].target.values[0]"
      ],
      "execution_count": 4,
      "outputs": [
        {
          "output_type": "execute_result",
          "data": {
            "text/plain": [
              "0"
            ]
          },
          "metadata": {},
          "execution_count": 4
        }
      ]
    },
    {
      "cell_type": "code",
      "metadata": {
        "colab": {
          "base_uri": "https://localhost:8080/"
        },
        "id": "ZIZUmgV2IxTs",
        "outputId": "2573a6d5-64fb-4919-ce4a-6fbb552db2af"
      },
      "source": [
        "#make data\n",
        "result = pd.DataFrame.from_dict(\n",
        "    dct,\n",
        "    orient='index',\n",
        "    dtype = 'float64'\n",
        ")\n",
        "for k in test_dct.keys():\n",
        "    assert (k in result.index) == False, f'error test id in train data id:{k}'\n",
        "\n",
        "\n",
        "# columns\n",
        "result = result.reset_index()\n",
        "result.columns = ['id'] +  [f'col_{i}' for i in range(352)]  \n",
        "\n",
        "#merge data&target by id\n",
        "data = result.merge(f, on='id', how='left')\n",
        "data.fillna(1, inplace= True)\n",
        "# drop test ids\n",
        "f = f[~f.id.isin(test_dct.keys())].reset_index(drop=True)\n",
        "m = m[~m.id.isin(test_dct.keys())].reset_index(drop=True)\n",
        "#check correct\n",
        "assert all(sorted(data[data.target == 0]['id'].values) == f.id.values) == True, 'merge not correct for woman'\n",
        "assert all(sorted(data[data.target == 1]['id'].values) == m.id.values) == True, 'merge not correct for man'"
      ],
      "execution_count": 5,
      "outputs": [
        {
          "output_type": "stream",
          "name": "stderr",
          "text": [
            "/usr/local/lib/python3.7/dist-packages/pandas/core/dtypes/cast.py:1625: ComplexWarning: Casting complex values to real discards the imaginary part\n",
            "  subarr = np.array(values, dtype=dtype, copy=copy)\n"
          ]
        }
      ]
    },
    {
      "cell_type": "code",
      "metadata": {
        "id": "X1UhHS1qRhPk"
      },
      "source": [
        "data = data.sample(frac=1).reset_index(drop=True)\n",
        "y = data.target.values\n",
        "X = data.drop(['id','target'], axis = 1)"
      ],
      "execution_count": 6,
      "outputs": []
    },
    {
      "cell_type": "code",
      "metadata": {
        "colab": {
          "base_uri": "https://localhost:8080/"
        },
        "id": "_R6-t3fPSeXa",
        "outputId": "bb94bf5e-307f-49b9-f281-87b3746b31a2"
      },
      "source": [
        "X_train, X_test, y_train, y_test = train_test_split(X, y, test_size=0.33, random_state=SEED)\n",
        "clf = LogisticRegression(random_state=SEED).fit(X_train, y_train)\n",
        "y_ = clf.predict_proba(X_test)[:, 1]\n",
        "roc_auc_score(y_test, y_)"
      ],
      "execution_count": 7,
      "outputs": [
        {
          "output_type": "execute_result",
          "data": {
            "text/plain": [
              "0.4807692307692308"
            ]
          },
          "metadata": {},
          "execution_count": 7
        }
      ]
    },
    {
      "cell_type": "code",
      "metadata": {
        "colab": {
          "base_uri": "https://localhost:8080/"
        },
        "id": "G1MB0ptYV5dv",
        "outputId": "70d05e8a-4cb5-454d-c274-2a120d3dd1a3"
      },
      "source": [
        "model = xgb.XGBClassifier(\n",
        "    n_estimators=1000,\n",
        "    max_depth=4,\n",
        "    learning_rate=0.05,\n",
        "    verbosity=0,\n",
        "    objective='binary:logistic',\n",
        "    subsample=0.95,\n",
        "    colsample_bytree=0.95,\n",
        "    random_state=SEED,\n",
        "    n_jobs=2,\n",
        "    )\n",
        "model.fit(X_train, y_train)\n",
        "y_ = model.predict_proba(X_test)[:, 1]\n",
        "model.save_model('xgb_model.json')\n",
        "roc_auc_score(y_test, y_)"
      ],
      "execution_count": 8,
      "outputs": [
        {
          "output_type": "execute_result",
          "data": {
            "text/plain": [
              "0.7528846153846154"
            ]
          },
          "metadata": {},
          "execution_count": 8
        }
      ]
    },
    {
      "cell_type": "code",
      "metadata": {
        "colab": {
          "base_uri": "https://localhost:8080/"
        },
        "id": "X67-LbDhtP4q",
        "outputId": "288deec7-cad6-4be3-9af6-ada23b2a4822"
      },
      "source": [
        "sk = StratifiedKFold(n_splits=3, random_state=SEED)\n",
        "tmp = []\n",
        "for i, (tidx,vidx) in enumerate(sk.split(X, y)):\n",
        "    tr, vl = X.iloc[tidx], X.iloc[vidx]\n",
        "    tr_y, vl_y = y[tidx], y[vidx]\n",
        "    model = xgb.XGBClassifier(\n",
        "        n_estimators=500,\n",
        "        max_depth=4,\n",
        "        learning_rate=0.05,\n",
        "        objective='binary:logistic',\n",
        "        subsample=0.5,\n",
        "        colsample_bytree=0.5,\n",
        "        random_state=SEED,\n",
        "        n_jobs=2,\n",
        "        )\n",
        "    model.fit(tr, tr_y)\n",
        "    y_ = model.predict_proba(vl)[:, 1]\n",
        "    score = roc_auc_score(vl_y, y_)\n",
        "    print(f'Fold: {i + 1}: {score}')\n",
        "    tmp.append(score)\n",
        "    del model\n",
        "    gc.collect()   \n",
        "\n",
        "print('Overall Score:', np.mean(tmp), np.std(tmp))"
      ],
      "execution_count": 9,
      "outputs": [
        {
          "output_type": "stream",
          "name": "stderr",
          "text": [
            "/usr/local/lib/python3.7/dist-packages/sklearn/model_selection/_split.py:296: FutureWarning: Setting a random_state has no effect since shuffle is False. This will raise an error in 0.24. You should leave random_state to its default (None), or set shuffle=True.\n",
            "  FutureWarning\n"
          ]
        },
        {
          "output_type": "stream",
          "name": "stdout",
          "text": [
            "Fold: 1: 0.8567493112947658\n",
            "Fold: 2: 0.8769513314967861\n",
            "Fold: 3: 0.7253787878787878\n",
            "Overall Score: 0.8196931435567798 0.067198356479291\n"
          ]
        }
      ]
    },
    {
      "cell_type": "code",
      "metadata": {
        "id": "w5DV8LZo1C3Z"
      },
      "source": [
        "# %%writefile test_gender.py\n",
        "import pathlib\n",
        "\n",
        "def test_gender(\n",
        "    path_file: str,\n",
        "    path_model: str,\n",
        "    lenght: int = 38016,\n",
        "    target: int = None,\n",
        ") -> None:\n",
        "    \"\"\"\n",
        "    path_file : str, path to wave file\n",
        "    path_model: str, path to pretrain model(xgb)\n",
        "\n",
        "\n",
        "    return: score&(man or woman)\n",
        "    \"\"\"\n",
        "    model = xgb.XGBClassifier()\n",
        "    model.load_model(path_model)\n",
        "\n",
        "    if not isinstance(path_file, pathlib.PosixPath):\n",
        "        path_file = pathlib.Path(path_file)\n",
        "        \n",
        "    d, _ = sf.read(path_file)   \n",
        "    if d.shape[0] < length:\n",
        "        d = np.append(d, [0]*(length-d.shape[0]), axis = 0)\n",
        "    else:\n",
        "        d = d[:length]\n",
        "    d_f = np.fft.fft(d)[:len(d)//2]\n",
        "    d_f = d_f.reshape(352, 54).mean(axis = 1)\n",
        "    y_ = model.predict_proba(d_f.astype('float64').reshape((1,-1)))\n",
        "    idx = np.argmax(y_)\n",
        "    if idx == 1: gender = 'Man'\n",
        "    else: gender = 'Woman'\n",
        "    result_str = f'Predict id: {path_file.stem}, score: {y_[0][idx]}, prob: {y_[0]},  gender: {gender}'\n",
        "    ans = False\n",
        "    if target == 0 or target == 1:\n",
        "        if idx == target:\n",
        "            ans = True           \n",
        "            result_str  = result_str + f' Target: {ans}'\n",
        "        else:           \n",
        "            result_str  = result_str + f' Target: {ans}'\n",
        "    print(result_str)"
      ],
      "execution_count": 10,
      "outputs": []
    },
    {
      "cell_type": "code",
      "metadata": {
        "colab": {
          "base_uri": "https://localhost:8080/"
        },
        "id": "WCcqiQcP5-78",
        "outputId": "b2fda471-9a42-4e93-b16e-f314de177265"
      },
      "source": [
        "for k, v in test_dct.items(): \n",
        "    test_gender(\n",
        "        path_file = path / 'wav_data' / f'{k}.wav',\n",
        "        path_model = '/content/xgb_model.json',\n",
        "        lenght = 38016,\n",
        "        target = v\n",
        "        )"
      ],
      "execution_count": 11,
      "outputs": [
        {
          "output_type": "stream",
          "name": "stdout",
          "text": [
            "Predict id: A30000X4, score: 0.9014936685562134, prob: [0.90149367 0.09850636],  gender: Woman Target: True\n",
            "Predict id: A30001S4, score: 0.9645574688911438, prob: [0.03544253 0.96455747],  gender: Man Target: True\n",
            "Predict id: A30000C3, score: 0.8821460604667664, prob: [0.88214606 0.11785392],  gender: Woman Target: True\n",
            "Predict id: A30001A6, score: 0.8514837026596069, prob: [0.1485163 0.8514837],  gender: Man Target: True\n",
            "Predict id: A30000O1, score: 0.8342952132225037, prob: [0.8342952 0.1657048],  gender: Woman Target: True\n",
            "Predict id: A30003S2, score: 0.5480421781539917, prob: [0.45195782 0.5480422 ],  gender: Man Target: True\n",
            "Predict id: A30000L3, score: 0.841105043888092, prob: [0.84110504 0.15889496],  gender: Woman Target: True\n"
          ]
        },
        {
          "output_type": "stream",
          "name": "stderr",
          "text": [
            "/usr/local/lib/python3.7/dist-packages/ipykernel_launcher.py:30: ComplexWarning: Casting complex values to real discards the imaginary part\n"
          ]
        }
      ]
    },
    {
      "cell_type": "code",
      "metadata": {
        "colab": {
          "base_uri": "https://localhost:8080/",
          "height": 75
        },
        "id": "-V7ZefjCAW7f",
        "outputId": "75bcad27-134c-47aa-a5fd-953ffc1c6058"
      },
      "source": [
        "d, sr = sf.read('/content/drive/MyDrive/TZ/stc/input/wav_data/A30000X1.wav')\n",
        "Audio(d, rate=sr)\n"
      ],
      "execution_count": 12,
      "outputs": [
        {
          "output_type": "execute_result",
          "data": {
            "text/html": [
              "\n",
              "                <audio controls=\"controls\" >\n",
              "                    <source src=\"data:audio/wav;base64,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\" type=\"audio/wav\" />\n",
              "                    Your browser does not support the audio element.\n",
              "                </audio>\n",
              "              "
            ],
            "text/plain": [
              "<IPython.lib.display.Audio object>"
            ]
          },
          "metadata": {},
          "execution_count": 12
        }
      ]
    },
    {
      "cell_type": "code",
      "metadata": {
        "id": "Oy1g5v1RAW5Z"
      },
      "source": [
        "# %load test_gender.py"
      ],
      "execution_count": 13,
      "outputs": []
    },
    {
      "cell_type": "code",
      "metadata": {
        "colab": {
          "base_uri": "https://localhost:8080/"
        },
        "id": "OSc1u1IOWiNn",
        "outputId": "c17c7e94-470f-432e-ec4b-d1bbc8af0e18"
      },
      "source": [
        "test_gender(\n",
        "    path_file = '/content/drive/MyDrive/TZ/stc/input/wav_data/A30000X1.wav',\n",
        "    path_model = '/content/xgb_model.json',\n",
        "    lenght = 38016,\n",
        "    target = None\n",
        "    )"
      ],
      "execution_count": 14,
      "outputs": [
        {
          "output_type": "stream",
          "name": "stdout",
          "text": [
            "Predict id: A30000X1, score: 0.9809482097625732, prob: [0.9809482  0.01905181],  gender: Woman\n"
          ]
        },
        {
          "output_type": "stream",
          "name": "stderr",
          "text": [
            "/usr/local/lib/python3.7/dist-packages/ipykernel_launcher.py:30: ComplexWarning: Casting complex values to real discards the imaginary part\n"
          ]
        }
      ]
    }
  ]
}