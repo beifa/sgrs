{
  "nbformat": 4,
  "nbformat_minor": 0,
  "metadata": {
    "colab": {
      "name": "tz_stc.ipynb",
      "provenance": [],
      "collapsed_sections": [],
      "mount_file_id": "1yrUtexioIKny9gCgz7XLiKd13cWZqvuM",
      "authorship_tag": "ABX9TyNm00R5cho9UDbQxK+RrF4r"
    },
    "kernelspec": {
      "name": "python3",
      "display_name": "Python 3"
    },
    "language_info": {
      "name": "python"
    },
    "widgets": {
      "application/vnd.jupyter.widget-state+json": {
        "bbb281d3f97240159d197f029fe5998c": {
          "model_module": "@jupyter-widgets/controls",
          "model_name": "HBoxModel",
          "model_module_version": "1.5.0",
          "state": {
            "_view_name": "HBoxView",
            "_dom_classes": [],
            "_model_name": "HBoxModel",
            "_view_module": "@jupyter-widgets/controls",
            "_model_module_version": "1.5.0",
            "_view_count": null,
            "_view_module_version": "1.5.0",
            "box_style": "",
            "layout": "IPY_MODEL_7ef7c1e083c142f3822d7425cf6ff23e",
            "_model_module": "@jupyter-widgets/controls",
            "children": [
              "IPY_MODEL_070951a854e54f6aaf549799d5b3bab0",
              "IPY_MODEL_b4936c8e91ec43a890e8f523432f32ce",
              "IPY_MODEL_806190f641a14bc08524a8e524b3eed8"
            ]
          }
        },
        "7ef7c1e083c142f3822d7425cf6ff23e": {
          "model_module": "@jupyter-widgets/base",
          "model_name": "LayoutModel",
          "model_module_version": "1.2.0",
          "state": {
            "_view_name": "LayoutView",
            "grid_template_rows": null,
            "right": null,
            "justify_content": null,
            "_view_module": "@jupyter-widgets/base",
            "overflow": null,
            "_model_module_version": "1.2.0",
            "_view_count": null,
            "flex_flow": null,
            "width": null,
            "min_width": null,
            "border": null,
            "align_items": null,
            "bottom": null,
            "_model_module": "@jupyter-widgets/base",
            "top": null,
            "grid_column": null,
            "overflow_y": null,
            "overflow_x": null,
            "grid_auto_flow": null,
            "grid_area": null,
            "grid_template_columns": null,
            "flex": null,
            "_model_name": "LayoutModel",
            "justify_items": null,
            "grid_row": null,
            "max_height": null,
            "align_content": null,
            "visibility": null,
            "align_self": null,
            "height": null,
            "min_height": null,
            "padding": null,
            "grid_auto_rows": null,
            "grid_gap": null,
            "max_width": null,
            "order": null,
            "_view_module_version": "1.2.0",
            "grid_template_areas": null,
            "object_position": null,
            "object_fit": null,
            "grid_auto_columns": null,
            "margin": null,
            "display": null,
            "left": null
          }
        },
        "070951a854e54f6aaf549799d5b3bab0": {
          "model_module": "@jupyter-widgets/controls",
          "model_name": "HTMLModel",
          "model_module_version": "1.5.0",
          "state": {
            "_view_name": "HTMLView",
            "style": "IPY_MODEL_cf108c1b8ec6411b854e97c058d37f51",
            "_dom_classes": [],
            "description": "",
            "_model_name": "HTMLModel",
            "placeholder": "​",
            "_view_module": "@jupyter-widgets/controls",
            "_model_module_version": "1.5.0",
            "value": "",
            "_view_count": null,
            "_view_module_version": "1.5.0",
            "description_tooltip": null,
            "_model_module": "@jupyter-widgets/controls",
            "layout": "IPY_MODEL_990c41e664ed4593bdcd01918b21f65f"
          }
        },
        "b4936c8e91ec43a890e8f523432f32ce": {
          "model_module": "@jupyter-widgets/controls",
          "model_name": "FloatProgressModel",
          "model_module_version": "1.5.0",
          "state": {
            "_view_name": "ProgressView",
            "style": "IPY_MODEL_562438a3755f4a939c2fbf68cd1819e2",
            "_dom_classes": [],
            "description": "",
            "_model_name": "FloatProgressModel",
            "bar_style": "success",
            "max": 1,
            "_view_module": "@jupyter-widgets/controls",
            "_model_module_version": "1.5.0",
            "value": 1,
            "_view_count": null,
            "_view_module_version": "1.5.0",
            "orientation": "horizontal",
            "min": 0,
            "description_tooltip": null,
            "_model_module": "@jupyter-widgets/controls",
            "layout": "IPY_MODEL_59f1fdaac47b4c9da8c2b2b95afc49aa"
          }
        },
        "806190f641a14bc08524a8e524b3eed8": {
          "model_module": "@jupyter-widgets/controls",
          "model_name": "HTMLModel",
          "model_module_version": "1.5.0",
          "state": {
            "_view_name": "HTMLView",
            "style": "IPY_MODEL_38ed37309def46e8bb7aab45143d573d",
            "_dom_classes": [],
            "description": "",
            "_model_name": "HTMLModel",
            "placeholder": "​",
            "_view_module": "@jupyter-widgets/controls",
            "_model_module_version": "1.5.0",
            "value": " 204/? [00:00&lt;00:00, 353.21it/s]",
            "_view_count": null,
            "_view_module_version": "1.5.0",
            "description_tooltip": null,
            "_model_module": "@jupyter-widgets/controls",
            "layout": "IPY_MODEL_bfbb5772fd7945d2842f3dd48d45371c"
          }
        },
        "cf108c1b8ec6411b854e97c058d37f51": {
          "model_module": "@jupyter-widgets/controls",
          "model_name": "DescriptionStyleModel",
          "model_module_version": "1.5.0",
          "state": {
            "_view_name": "StyleView",
            "_model_name": "DescriptionStyleModel",
            "description_width": "",
            "_view_module": "@jupyter-widgets/base",
            "_model_module_version": "1.5.0",
            "_view_count": null,
            "_view_module_version": "1.2.0",
            "_model_module": "@jupyter-widgets/controls"
          }
        },
        "990c41e664ed4593bdcd01918b21f65f": {
          "model_module": "@jupyter-widgets/base",
          "model_name": "LayoutModel",
          "model_module_version": "1.2.0",
          "state": {
            "_view_name": "LayoutView",
            "grid_template_rows": null,
            "right": null,
            "justify_content": null,
            "_view_module": "@jupyter-widgets/base",
            "overflow": null,
            "_model_module_version": "1.2.0",
            "_view_count": null,
            "flex_flow": null,
            "width": null,
            "min_width": null,
            "border": null,
            "align_items": null,
            "bottom": null,
            "_model_module": "@jupyter-widgets/base",
            "top": null,
            "grid_column": null,
            "overflow_y": null,
            "overflow_x": null,
            "grid_auto_flow": null,
            "grid_area": null,
            "grid_template_columns": null,
            "flex": null,
            "_model_name": "LayoutModel",
            "justify_items": null,
            "grid_row": null,
            "max_height": null,
            "align_content": null,
            "visibility": null,
            "align_self": null,
            "height": null,
            "min_height": null,
            "padding": null,
            "grid_auto_rows": null,
            "grid_gap": null,
            "max_width": null,
            "order": null,
            "_view_module_version": "1.2.0",
            "grid_template_areas": null,
            "object_position": null,
            "object_fit": null,
            "grid_auto_columns": null,
            "margin": null,
            "display": null,
            "left": null
          }
        },
        "562438a3755f4a939c2fbf68cd1819e2": {
          "model_module": "@jupyter-widgets/controls",
          "model_name": "ProgressStyleModel",
          "model_module_version": "1.5.0",
          "state": {
            "_view_name": "StyleView",
            "_model_name": "ProgressStyleModel",
            "description_width": "",
            "_view_module": "@jupyter-widgets/base",
            "_model_module_version": "1.5.0",
            "_view_count": null,
            "_view_module_version": "1.2.0",
            "bar_color": null,
            "_model_module": "@jupyter-widgets/controls"
          }
        },
        "59f1fdaac47b4c9da8c2b2b95afc49aa": {
          "model_module": "@jupyter-widgets/base",
          "model_name": "LayoutModel",
          "model_module_version": "1.2.0",
          "state": {
            "_view_name": "LayoutView",
            "grid_template_rows": null,
            "right": null,
            "justify_content": null,
            "_view_module": "@jupyter-widgets/base",
            "overflow": null,
            "_model_module_version": "1.2.0",
            "_view_count": null,
            "flex_flow": null,
            "width": "20px",
            "min_width": null,
            "border": null,
            "align_items": null,
            "bottom": null,
            "_model_module": "@jupyter-widgets/base",
            "top": null,
            "grid_column": null,
            "overflow_y": null,
            "overflow_x": null,
            "grid_auto_flow": null,
            "grid_area": null,
            "grid_template_columns": null,
            "flex": null,
            "_model_name": "LayoutModel",
            "justify_items": null,
            "grid_row": null,
            "max_height": null,
            "align_content": null,
            "visibility": null,
            "align_self": null,
            "height": null,
            "min_height": null,
            "padding": null,
            "grid_auto_rows": null,
            "grid_gap": null,
            "max_width": null,
            "order": null,
            "_view_module_version": "1.2.0",
            "grid_template_areas": null,
            "object_position": null,
            "object_fit": null,
            "grid_auto_columns": null,
            "margin": null,
            "display": null,
            "left": null
          }
        },
        "38ed37309def46e8bb7aab45143d573d": {
          "model_module": "@jupyter-widgets/controls",
          "model_name": "DescriptionStyleModel",
          "model_module_version": "1.5.0",
          "state": {
            "_view_name": "StyleView",
            "_model_name": "DescriptionStyleModel",
            "description_width": "",
            "_view_module": "@jupyter-widgets/base",
            "_model_module_version": "1.5.0",
            "_view_count": null,
            "_view_module_version": "1.2.0",
            "_model_module": "@jupyter-widgets/controls"
          }
        },
        "bfbb5772fd7945d2842f3dd48d45371c": {
          "model_module": "@jupyter-widgets/base",
          "model_name": "LayoutModel",
          "model_module_version": "1.2.0",
          "state": {
            "_view_name": "LayoutView",
            "grid_template_rows": null,
            "right": null,
            "justify_content": null,
            "_view_module": "@jupyter-widgets/base",
            "overflow": null,
            "_model_module_version": "1.2.0",
            "_view_count": null,
            "flex_flow": null,
            "width": null,
            "min_width": null,
            "border": null,
            "align_items": null,
            "bottom": null,
            "_model_module": "@jupyter-widgets/base",
            "top": null,
            "grid_column": null,
            "overflow_y": null,
            "overflow_x": null,
            "grid_auto_flow": null,
            "grid_area": null,
            "grid_template_columns": null,
            "flex": null,
            "_model_name": "LayoutModel",
            "justify_items": null,
            "grid_row": null,
            "max_height": null,
            "align_content": null,
            "visibility": null,
            "align_self": null,
            "height": null,
            "min_height": null,
            "padding": null,
            "grid_auto_rows": null,
            "grid_gap": null,
            "max_width": null,
            "order": null,
            "_view_module_version": "1.2.0",
            "grid_template_areas": null,
            "object_position": null,
            "object_fit": null,
            "grid_auto_columns": null,
            "margin": null,
            "display": null,
            "left": null
          }
        }
      }
    }
  },
  "cells": [
    {
      "cell_type": "code",
      "metadata": {
        "id": "XnUro4NzOlry"
      },
      "source": [
        "import gc\n",
        "import pathlib\n",
        "import numpy as np\n",
        "import collections\n",
        "import pandas as pd\n",
        "import xgboost as xgb\n",
        "import soundfile as sf\n",
        "from tqdm.auto import tqdm\n",
        "from typing import Union\n",
        "from sklearn.metrics import roc_auc_score\n",
        "from sklearn.linear_model import LogisticRegression\n",
        "from sklearn.model_selection import train_test_split, StratifiedKFold\n",
        "\n",
        "from IPython.display import Audio\n",
        "\n",
        "path = pathlib.Path('/content/drive/MyDrive/TZ/stc/input/')\n",
        "SEED = 13"
      ],
      "execution_count": 1,
      "outputs": []
    },
    {
      "cell_type": "code",
      "metadata": {
        "id": "NOC_rMN2TU_2"
      },
      "source": [
        "def find_length(path: pathlib.Path) -> int:\n",
        "    \"\"\"\n",
        "    path: path to file waves\n",
        "    we need make all waves equal length and we need find mean\n",
        "    return: mean(all length waves) * 8000   \n",
        "    \"\"\"\n",
        "    tmp = []\n",
        "    for p in (path / 'wav_data').glob('*.wav'):\n",
        "        d, sr = sf.read(p)\n",
        "        tmp.append(d.shape[0]/sr)\n",
        "\n",
        "    print(f'Length waves max : {np.max(tmp)}, min: {np.min(tmp)}, mean: {np.mean(tmp)}')    \n",
        "    return int(sr * np.mean(tmp))\n",
        "\n",
        "\n",
        "def make_data(path: pathlib.Path, length: int) -> list:\n",
        "    \"\"\"\n",
        "    path: Path, path to wave file\n",
        "    length: int, set length to make eq. len waves\n",
        "            if > we cut, < expand zeros\n",
        "    after each waves make FFT, reshape and get mean features\n",
        "    return: list    \n",
        "    \"\"\"\n",
        "    d, _ = sf.read(p)   \n",
        "    if d.shape[0] < length:\n",
        "        d = np.append(d, [0]*(length-d.shape[0]), axis = 0)\n",
        "    else:\n",
        "        d = d[:length]\n",
        "    d_f = np.fft.fft(d)[:len(d)//2]\n",
        "    return d_f.reshape(352, 54).mean(axis = 1)\n",
        "\n",
        "\n",
        "def make_target(name: str, value: int) -> pd.DataFrame:\n",
        "    \"\"\"\n",
        "    name: str, f.txt\n",
        "    value: int, taget value [0, 1]\n",
        "    \"\"\"\n",
        "    data = pd.read_csv(path / name, header = None)\n",
        "    data['target'] = value\n",
        "    data.columns = ['id', 'target']\n",
        "    data['id'] = data['id'].str.split('.').str[0]\n",
        "    return data\n",
        "\n",
        "\n",
        "def rand_path_test(\n",
        "    count: int,\n",
        "    man: pd.DataFrame,\n",
        "    woman: pd.DataFrame\n",
        ") -> dict:\n",
        "    \"\"\"\n",
        "    count: int, count test id\n",
        "    man: pd.DataFrame, ids for gender man\n",
        "    woman: pd.DataFrame, ids for gender woman\n",
        "    for test, take random id from ids(woman&man) set label\n",
        "    return: dict\n",
        "        {\n",
        "            id : label\n",
        "        }\n",
        "    \"\"\"\n",
        "    dct = {}\n",
        "    for _ in range(count):\n",
        "        id_man = np.random.choice(man.id.values)\n",
        "        id_woman = np.random.choice(woman.id.values)\n",
        "        dct[id_man] = man[man.id == id_man].target.values[0]\n",
        "        dct[id_woman] = woman[woman.id == id_woman].target.values[0]\n",
        "    return dct"
      ],
      "execution_count": 2,
      "outputs": []
    },
    {
      "cell_type": "code",
      "metadata": {
        "colab": {
          "base_uri": "https://localhost:8080/",
          "height": 66,
          "referenced_widgets": [
            "bbb281d3f97240159d197f029fe5998c",
            "7ef7c1e083c142f3822d7425cf6ff23e",
            "070951a854e54f6aaf549799d5b3bab0",
            "b4936c8e91ec43a890e8f523432f32ce",
            "806190f641a14bc08524a8e524b3eed8",
            "cf108c1b8ec6411b854e97c058d37f51",
            "990c41e664ed4593bdcd01918b21f65f",
            "562438a3755f4a939c2fbf68cd1819e2",
            "59f1fdaac47b4c9da8c2b2b95afc49aa",
            "38ed37309def46e8bb7aab45143d573d",
            "bfbb5772fd7945d2842f3dd48d45371c"
          ]
        },
        "id": "pUciCxbgF9qW",
        "outputId": "ad5844c2-6148-43f4-c524-373858b7fbf8"
      },
      "source": [
        "#make target\n",
        "f = make_target('f.txt', 0)\n",
        "m = make_target('m.txt', 1)\n",
        "\n",
        "test_dct = rand_path_test(\n",
        "    count = 4,\n",
        "    man=f,\n",
        "    woman=m\n",
        ")\n",
        "length = find_length(path)\n",
        "dct = collections.defaultdict(list)\n",
        "for p in tqdm((path / 'wav_data').glob('*.wav')):\n",
        "    if not p.stem in test_dct.keys():\n",
        "        dct[p.stem].append(make_data(p, length))\n",
        "        dct[p.stem] = np.ravel(dct[p.stem])"
      ],
      "execution_count": 3,
      "outputs": [
        {
          "output_type": "stream",
          "name": "stdout",
          "text": [
            "Length waves max : 10.6565, min: 2.4035, mean: 4.752068014705882\n"
          ]
        },
        {
          "output_type": "display_data",
          "data": {
            "application/vnd.jupyter.widget-view+json": {
              "model_id": "bbb281d3f97240159d197f029fe5998c",
              "version_minor": 0,
              "version_major": 2
            },
            "text/plain": [
              "0it [00:00, ?it/s]"
            ]
          },
          "metadata": {}
        }
      ]
    },
    {
      "cell_type": "code",
      "metadata": {
        "colab": {
          "base_uri": "https://localhost:8080/"
        },
        "id": "ZIZUmgV2IxTs",
        "outputId": "34c55ac4-b0c8-4c6f-f79a-217f5ccbccdb"
      },
      "source": [
        "#make data\n",
        "result = pd.DataFrame.from_dict(\n",
        "    dct,\n",
        "    orient='index',\n",
        "    dtype = 'float64'\n",
        ")\n",
        "for k in test_dct.keys():\n",
        "    assert (k in result.index) == False, f'error test id in train data id:{k}'\n",
        "\n",
        "\n",
        "# columns\n",
        "result = result.reset_index()\n",
        "result.columns = ['id'] +  [f'col_{i}' for i in range(352)]  \n",
        "\n",
        "#merge data&target by id\n",
        "data = result.merge(f, on='id', how='left')\n",
        "data.fillna(1, inplace= True)\n",
        "# drop test ids\n",
        "f = f[~f.id.isin(test_dct.keys())].reset_index(drop=True)\n",
        "m = m[~m.id.isin(test_dct.keys())].reset_index(drop=True)\n",
        "#check correct\n",
        "assert all(sorted(data[data.target == 0]['id'].values) == f.id.values) == True, 'merge not correct for woman'\n",
        "assert all(sorted(data[data.target == 1]['id'].values) == m.id.values) == True, 'merge not correct for man'"
      ],
      "execution_count": 4,
      "outputs": [
        {
          "output_type": "stream",
          "name": "stderr",
          "text": [
            "/usr/local/lib/python3.7/dist-packages/pandas/core/dtypes/cast.py:1625: ComplexWarning: Casting complex values to real discards the imaginary part\n",
            "  subarr = np.array(values, dtype=dtype, copy=copy)\n"
          ]
        }
      ]
    },
    {
      "cell_type": "code",
      "metadata": {
        "id": "X1UhHS1qRhPk"
      },
      "source": [
        "data = data.sample(frac=1).reset_index(drop=True)\n",
        "y = data.target.values\n",
        "X = data.drop(['id','target'], axis = 1)"
      ],
      "execution_count": 5,
      "outputs": []
    },
    {
      "cell_type": "code",
      "metadata": {
        "colab": {
          "base_uri": "https://localhost:8080/"
        },
        "id": "_R6-t3fPSeXa",
        "outputId": "5d2468ea-5cb4-47a2-8fe3-529ad9bce912"
      },
      "source": [
        "X_train, X_test, y_train, y_test = train_test_split(X, y, test_size=0.33, random_state=SEED)\n",
        "clf = LogisticRegression(random_state=SEED).fit(X_train, y_train)\n",
        "y_ = clf.predict_proba(X_test)[:, 1]\n",
        "roc_auc_score(y_test, y_)"
      ],
      "execution_count": 6,
      "outputs": [
        {
          "output_type": "execute_result",
          "data": {
            "text/plain": [
              "0.5948275862068966"
            ]
          },
          "metadata": {},
          "execution_count": 6
        }
      ]
    },
    {
      "cell_type": "code",
      "metadata": {
        "colab": {
          "base_uri": "https://localhost:8080/"
        },
        "id": "G1MB0ptYV5dv",
        "outputId": "b7fa16a1-374d-4090-d915-9ebe24d339f1"
      },
      "source": [
        "model = xgb.XGBClassifier(\n",
        "    n_estimators=1000,\n",
        "    max_depth=4,\n",
        "    learning_rate=0.05,\n",
        "    verbosity=0,\n",
        "    objective='binary:logistic',\n",
        "    subsample=0.95,\n",
        "    colsample_bytree=0.95,\n",
        "    random_state=SEED,\n",
        "    n_jobs=2,\n",
        "    )\n",
        "model.fit(X_train, y_train)\n",
        "y_ = model.predict_proba(X_test)[:, 1]\n",
        "model.save_model('xgb_model.json')\n",
        "roc_auc_score(y_test, y_)"
      ],
      "execution_count": 7,
      "outputs": [
        {
          "output_type": "execute_result",
          "data": {
            "text/plain": [
              "0.9454022988505747"
            ]
          },
          "metadata": {},
          "execution_count": 7
        }
      ]
    },
    {
      "cell_type": "code",
      "metadata": {
        "colab": {
          "base_uri": "https://localhost:8080/"
        },
        "id": "X67-LbDhtP4q",
        "outputId": "07007802-3845-4ee7-ac31-fc2e6d794427"
      },
      "source": [
        "sk = StratifiedKFold(n_splits=3, random_state=SEED)\n",
        "tmp = []\n",
        "for i, (tidx,vidx) in enumerate(sk.split(X, y)):\n",
        "    tr, vl = X.iloc[tidx], X.iloc[vidx]\n",
        "    tr_y, vl_y = y[tidx], y[vidx]\n",
        "    model = xgb.XGBClassifier(\n",
        "        n_estimators=500,\n",
        "        max_depth=4,\n",
        "        learning_rate=0.05,\n",
        "        objective='binary:logistic',\n",
        "        subsample=0.5,\n",
        "        colsample_bytree=0.5,\n",
        "        random_state=SEED,\n",
        "        n_jobs=2,\n",
        "        )\n",
        "    model.fit(tr, tr_y)\n",
        "    y_ = model.predict_proba(vl)[:, 1]\n",
        "    score = roc_auc_score(vl_y, y_)\n",
        "    print(f'Fold: {i + 1}: {score}')\n",
        "    tmp.append(score)\n",
        "    del model\n",
        "    gc.collect()   \n",
        "\n",
        "print('Overall Score:', np.mean(tmp), np.std(tmp))"
      ],
      "execution_count": 8,
      "outputs": [
        {
          "output_type": "stream",
          "name": "stderr",
          "text": [
            "/usr/local/lib/python3.7/dist-packages/sklearn/model_selection/_split.py:296: FutureWarning: Setting a random_state has no effect since shuffle is False. This will raise an error in 0.24. You should leave random_state to its default (None), or set shuffle=True.\n",
            "  FutureWarning\n"
          ]
        },
        {
          "output_type": "stream",
          "name": "stdout",
          "text": [
            "Fold: 1: 0.9072543617998163\n",
            "Fold: 2: 0.8125\n",
            "Fold: 3: 0.8882575757575758\n",
            "Overall Score: 0.8693373125191307 0.04093148373222146\n"
          ]
        }
      ]
    },
    {
      "cell_type": "code",
      "metadata": {
        "id": "w5DV8LZo1C3Z"
      },
      "source": [
        "def test_gender(\n",
        "    path_file: Union[str, pathlib.Path],\n",
        "    path_model: str,\n",
        "    length: int = 38016,\n",
        "    target: int = None,\n",
        ") -> None:\n",
        "    \"\"\"\n",
        "    path_file : str, path to wave file\n",
        "    path_model: str, path to pretrain model(xgb)\n",
        "    length: int, len wave\n",
        "    target: None, for test and may by to equal if you have label\n",
        "    Make predict for pretrain model(xgb)\n",
        "    \"\"\"\n",
        "    model = xgb.XGBClassifier()\n",
        "    model.load_model(path_model)\n",
        "\n",
        "    if not isinstance(path_file, pathlib.PosixPath):\n",
        "        path_file = pathlib.Path(path_file)\n",
        "\n",
        "    d, _ = sf.read(path_file)   \n",
        "    if d.shape[0] < length:\n",
        "        d = np.append(d, [0]*(length-d.shape[0]), axis = 0)\n",
        "    else:\n",
        "        d = d[:length]\n",
        "    d_f = np.fft.fft(d)[:len(d)//2]\n",
        "    d_f = d_f.reshape(352, 54).mean(axis = 1)\n",
        "    y_ = model.predict_proba(d_f.astype('float64').reshape((1,-1)))\n",
        "    idx = np.argmax(y_)\n",
        "    if idx == 1: gender = 'Man'\n",
        "    else: gender = 'Woman'\n",
        "    result_str = f'Predict id: {path_file.stem}, score: {y_[0][idx]}, prob: {y_[0]},  gender: {gender}'\n",
        "    ans = False\n",
        "    if target == 0 or target == 1:\n",
        "        if idx == target:\n",
        "            ans = True           \n",
        "            result_str  = result_str + f' Target: {ans}'\n",
        "        else:           \n",
        "            result_str  = result_str + f' Target: {ans}'\n",
        "    print(result_str)"
      ],
      "execution_count": 9,
      "outputs": []
    },
    {
      "cell_type": "code",
      "metadata": {
        "colab": {
          "base_uri": "https://localhost:8080/"
        },
        "id": "WCcqiQcP5-78",
        "outputId": "1b0fff1e-a4de-4731-bb3a-d87db12a3b02"
      },
      "source": [
        "#test\n",
        "for k, v in test_dct.items(): \n",
        "    test_gender(\n",
        "        path_file = path / 'wav_data' / f'{k}.wav',\n",
        "        path_model = '/content/xgb_model.json',\n",
        "        length = 38016,\n",
        "        target = v\n",
        "        )"
      ],
      "execution_count": 10,
      "outputs": [
        {
          "output_type": "stream",
          "name": "stdout",
          "text": [
            "Predict id: A30000S5, score: 0.9907704591751099, prob: [0.99077046 0.00922954],  gender: Woman Target: True\n",
            "Predict id: A30001S1, score: 0.5895978808403015, prob: [0.41040212 0.5895979 ],  gender: Man Target: True\n",
            "Predict id: A30002E1, score: 0.9346035718917847, prob: [0.06539643 0.9346036 ],  gender: Man Target: False\n",
            "Predict id: A30003O5, score: 0.5637637376785278, prob: [0.43623626 0.56376374],  gender: Man Target: True\n",
            "Predict id: A30002S8, score: 0.7025376558303833, prob: [0.29746234 0.70253766],  gender: Man Target: False\n",
            "Predict id: A30003O2, score: 0.8750712275505066, prob: [0.12492877 0.8750712 ],  gender: Man Target: True\n",
            "Predict id: A30000S1, score: 0.9096874594688416, prob: [0.90968746 0.09031253],  gender: Woman Target: True\n",
            "Predict id: A30001B1, score: 0.9341729879379272, prob: [0.06582701 0.934173  ],  gender: Man Target: True\n"
          ]
        },
        {
          "output_type": "stream",
          "name": "stderr",
          "text": [
            "/usr/local/lib/python3.7/dist-packages/ipykernel_launcher.py:27: ComplexWarning: Casting complex values to real discards the imaginary part\n"
          ]
        }
      ]
    },
    {
      "cell_type": "code",
      "metadata": {
        "colab": {
          "base_uri": "https://localhost:8080/",
          "height": 75
        },
        "id": "-V7ZefjCAW7f",
        "outputId": "807dd669-a556-467e-e8c7-9b05e472852b"
      },
      "source": [
        "d, sr = sf.read('/content/drive/MyDrive/TZ/stc/input/wav_data/A30003O5.wav')\n",
        "Audio(d, rate=sr)\n"
      ],
      "execution_count": 13,
      "outputs": [
        {
          "output_type": "execute_result",
          "data": {
            "text/html": [
              "\n",
              "                <audio controls=\"controls\" >\n",
              "                    <source src=\"data:audio/wav;base64,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\" type=\"audio/wav\" />\n",
              "                    Your browser does not support the audio element.\n",
              "                </audio>\n",
              "              "
            ],
            "text/plain": [
              "<IPython.lib.display.Audio object>"
            ]
          },
          "metadata": {},
          "execution_count": 13
        }
      ]
    },
    {
      "cell_type": "code",
      "metadata": {
        "colab": {
          "base_uri": "https://localhost:8080/"
        },
        "id": "OSc1u1IOWiNn",
        "outputId": "44cc1fbb-398a-490e-e726-1d2de64b4252"
      },
      "source": [
        "test_gender(\n",
        "    path_file = '/content/drive/MyDrive/TZ/stc/input/wav_data/A30000X1.wav',\n",
        "    path_model = '/content/xgb_model.json',\n",
        "    length = 38016,\n",
        "    target = None\n",
        "    )"
      ],
      "execution_count": 12,
      "outputs": [
        {
          "output_type": "stream",
          "name": "stdout",
          "text": [
            "Predict id: A30000X1, score: 0.989342987537384, prob: [0.989343   0.01065699],  gender: Woman\n"
          ]
        },
        {
          "output_type": "stream",
          "name": "stderr",
          "text": [
            "/usr/local/lib/python3.7/dist-packages/ipykernel_launcher.py:27: ComplexWarning: Casting complex values to real discards the imaginary part\n"
          ]
        }
      ]
    }
  ]
}